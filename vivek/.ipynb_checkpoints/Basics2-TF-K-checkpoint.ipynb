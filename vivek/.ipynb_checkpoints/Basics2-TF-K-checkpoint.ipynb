{
 "cells": [
  {
   "cell_type": "markdown",
   "metadata": {},
   "source": [
    "# Keras terms\n",
    "\n",
    "Keras API can be divided into 3 main caregories -\n",
    "1. Model - The NN is represented as model\n",
    "    * Sequential - Linear compostion of Keras\n",
    "    * Functional - Create complex models\n",
    "2. Layers - Model is composed of layers\n",
    "    * Core \n",
    "    * Convolution \n",
    "    * Pooling\n",
    "    * Recurrent\n",
    "3. Core Modules - Activations, Optimizer, Loss, Regularizer, Backend etc\n",
    "\n",
    "https://www.tutorialspoint.com/keras/keras_quick_guide.htm"
   ]
  },
  {
   "attachments": {},
   "cell_type": "markdown",
   "metadata": {},
   "source": [
    "# TF2 Intro\n",
    "https://www.youtube.com/watch?time_continue=2&v=5ECD8J3dvDQ&feature=emb_logo"
   ]
  },
  {
   "cell_type": "code",
   "execution_count": 1,
   "metadata": {},
   "outputs": [
    {
     "name": "stderr",
     "output_type": "stream",
     "text": [
      "Using TensorFlow backend.\n"
     ]
    }
   ],
   "source": [
    "import tensorflow as tf\n",
    "#import os\n",
    "#os.environ[\"KERAS_BACKEND\"] = \"tensorflow\"\n",
    "import numpy as np\n",
    "import keras as k"
   ]
  },
  {
   "cell_type": "code",
   "execution_count": 13,
   "metadata": {},
   "outputs": [
    {
     "name": "stdout",
     "output_type": "stream",
     "text": [
      "tf.Tensor(b'Hello Tesnoflow!', shape=(), dtype=string)\n",
      "tf.Tensor(2.0, shape=(), dtype=float32)\n"
     ]
    }
   ],
   "source": [
    "hello = tf.constant(\"Hello Tensorflow!\")\n",
    "print(hello)\n",
    "\n",
    "a = tf.constant(1, dtype=tf.float32)\n",
    "b = tf.constant(1, dtype=tf.float32)\n",
    "print(a+b)"
   ]
  },
  {
   "cell_type": "code",
   "execution_count": 18,
   "metadata": {},
   "outputs": [
    {
     "name": "stdout",
     "output_type": "stream",
     "text": [
      "tf.Tensor(6.0, shape=(), dtype=float32)\n"
     ]
    }
   ],
   "source": [
    "x = tf.constant(3.0)\n",
    "with tf.GradientTape() as g:\n",
    "    g.watch(x)\n",
    "    y = x*x\n",
    "dy_dx = g.gradient(y,x) #2x @x~3 = 6\n",
    "print(dy_dx)"
   ]
  },
  {
   "cell_type": "code",
   "execution_count": 24,
   "metadata": {},
   "outputs": [
    {
     "data": {
      "text/plain": [
       "[<matplotlib.lines.Line2D at 0x178e919efc8>]"
      ]
     },
     "execution_count": 24,
     "metadata": {},
     "output_type": "execute_result"
    },
    {
     "data": {
      "image/png": "[encoded data removed]",
      "text/plain": [
       "<Figure size 432x288 with 1 Axes>"
      ]
     },
     "metadata": {
      "needs_background": "light"
     },
     "output_type": "display_data"
    }
   ],
   "source": [
    "import matplotlib.pyplot as plt\n",
    "from tensorflow.keras import Model\n",
    "\n",
    "def make_noisy_data(m=0.1, b=0.3, n=100):\n",
    "    x = tf.random.uniform(shape=(n,))\n",
    "    noise = tf.random.normal(shape=(len(x),), stddev=0.01)\n",
    "    y = m*x+b+noise\n",
    "    return x,y\n",
    "\n",
    "x_train, y_train = make_noisy_data()\n",
    "\n",
    "plt.plot(x_train, y_train, 'b.')"
   ]
  },
  {
   "cell_type": "code",
   "execution_count": 33,
   "metadata": {},
   "outputs": [
    {
     "name": "stdout",
     "output_type": "stream",
     "text": [
      "tf.Tensor(0.120543025, shape=(), dtype=float32)\n",
      "0.120543025\n",
      "step 0 loss 0.120543\n",
      "step 20 loss 0.000805\n",
      "step 40 loss 0.000141\n",
      "step 60 loss 0.000126\n",
      "step 80 loss 0.000118\n",
      "step 100 loss 0.000111\n",
      "step 120 loss 0.000106\n",
      "step 140 loss 0.000102\n",
      "step 160 loss 0.000099\n",
      "step 180 loss 0.000097\n",
      "m:0.114399 , b:0.293300\n"
     ]
    }
   ],
   "source": [
    "m = tf.Variable(0.)\n",
    "b = tf.Variable(0.)\n",
    "#predict y given x\n",
    "def predict(x):\n",
    "    y = m*x+b\n",
    "    return y\n",
    "\n",
    "#loss\n",
    "def squared_error(y_pred, y_true):\n",
    "    return tf.reduce_mean(tf.square(y_pred-y_true))\n",
    "\n",
    "#loss before training\n",
    "loss = squared_error(predict(x_train), y_train)\n",
    "print(loss)\n",
    "print(loss.numpy())\n",
    "\n",
    "learning_rate = 0.05\n",
    "steps = 200\n",
    "\n",
    "for i in range(steps):\n",
    "    \n",
    "    with tf.GradientTape() as tape:\n",
    "        predictions = predict(x_train)\n",
    "        loss = squared_error(predictions, y_train)\n",
    "        \n",
    "    gradients = tape.gradient(loss, [m,b])\n",
    "    \n",
    "    m.assign_sub(gradients[0]*learning_rate)\n",
    "    b.assign_sub(gradients[1]*learning_rate)\n",
    "    \n",
    "    if i%20 == 0:\n",
    "        print(\"step %d loss %f\"%(i, loss.numpy()))\n",
    "        \n",
    "print(\"m:%f , b:%f\"%(m.numpy(), b.numpy()))"
   ]
  },
  {
   "cell_type": "code",
   "execution_count": 36,
   "metadata": {},
   "outputs": [
    {
     "data": {
      "text/plain": [
       "[<matplotlib.lines.Line2D at 0x178ea06e6c8>]"
      ]
     },
     "execution_count": 36,
     "metadata": {},
     "output_type": "execute_result"
    },
    {
     "data": {
      "image/png": "[encoded data removed]",
      "text/plain": [
       "<Figure size 432x288 with 1 Axes>"
      ]
     },
     "metadata": {
      "needs_background": "light"
     },
     "output_type": "display_data"
    }
   ],
   "source": [
    "plt.plot(x_train, y_train, \"b.\")\n",
    "plt.plot(x_train, predict(x_train))"
   ]
  },
  {
   "cell_type": "markdown",
   "metadata": {},
   "source": [
    "# TF2 Beginner\n",
    "\n",
    "https://www.tensorflow.org/tutorials/quickstart/beginner\n"
   ]
  },
  {
   "cell_type": "code",
   "execution_count": 68,
   "metadata": {},
   "outputs": [
    {
     "data": {
      "image/png": "[encoded data removed]",
      "text/plain": [
       "<Figure size 432x288 with 1 Axes>"
      ]
     },
     "metadata": {
      "needs_background": "light"
     },
     "output_type": "display_data"
    },
    {
     "data": {
      "image/png": "[encoded data removed]",
      "text/plain": [
       "<Figure size 432x288 with 1 Axes>"
      ]
     },
     "metadata": {
      "needs_background": "light"
     },
     "output_type": "display_data"
    },
    {
     "name": "stdout",
     "output_type": "stream",
     "text": [
      "0\n",
      "(60000, 28, 28)\n"
     ]
    }
   ],
   "source": [
    "#MNIST\n",
    "tf.keras.backend.set_floatx('float64')\n",
    "tf.random.set_seed(1)\n",
    "import matplotlib.pyplot as plt\n",
    "%matplotlib inline\n",
    "mnist = tf.keras.datasets.mnist\n",
    "(x_tr, y_tr),(x_t, y_t) = mnist.load_data()\n",
    "x_tr2, x_t2 = x_tr/255.0, x_t/255.0\n",
    "\n",
    "# plot the sample\n",
    "fig = plt.figure\n",
    "plt.imshow(x_tr[1], cmap='gray')\n",
    "plt.show()\n",
    "plt.imshow(x_tr2[1:2][0], cmap='gray')\n",
    "plt.show()\n",
    "print(y_tr[1])\n",
    "print(x_tr2.shape)"
   ]
  },
  {
   "cell_type": "code",
   "execution_count": 69,
   "metadata": {},
   "outputs": [],
   "source": [
    "model = tf.keras.models.Sequential([\n",
    "  tf.keras.layers.Flatten(input_shape=(28, 28)),\n",
    "  tf.keras.layers.Dense(128, activation='relu'),\n",
    "  tf.keras.layers.Dropout(0.2),\n",
    "  tf.keras.layers.Dense(10)\n",
    "])\n",
    "\"\"\"\n",
    "model = tf.keras.models.Sequential();\n",
    "model.add(tf.keras.layers.Flatten(input_shape=(28, 28)))\n",
    "model.add(tf.keras.layers.Dense(128, activation='relu'))\n",
    "model.add(tf.keras.layers.Dropout(0.2))\n",
    "model.add(tf.keras.layers.Dense(10))\n",
    "\"\"\"\n",
    "loss_fn = tf.keras.losses.SparseCategoricalCrossentropy(from_logits=True)"
   ]
  },
  {
   "cell_type": "code",
   "execution_count": 72,
   "metadata": {},
   "outputs": [
    {
     "name": "stdout",
     "output_type": "stream",
     "text": [
      "preds\n",
      "[[-0.22892294 -0.0554791  -0.36897684 -0.31703832 -0.05636311 -0.37768833\n",
      "   0.00168194 -0.45457253 -0.35064929 -0.76820382]]\n",
      "preds softmax\n",
      "[[0.10470774 0.12453875 0.09102363 0.09587619 0.12442871 0.09023413\n",
      "  0.13186491 0.08355654 0.09270725 0.06106215]]\n",
      "preds loss\n",
      "2.4053475856781006\n"
     ]
    }
   ],
   "source": [
    "preds = model(x_tr2[:1]).numpy()\n",
    "print(\"preds\")\n",
    "print(preds)\n",
    "\"\"\"\n",
    "Note: It is possible to bake this tf.nn.softmax in as the activation function for the last layer of the network. \n",
    "While this can make the model output more directly interpretable, this approach is discouraged as it's \n",
    "impossible to provide an exact and numerically stable loss calculation for all models when using a softmax output.\n",
    "\"\"\"\n",
    "print(\"preds softmax\")\n",
    "print(tf.nn.softmax(preds).numpy())\n",
    "print(\"preds loss\")\n",
    "print(loss_fn(y_tr[:1], preds).numpy())\n",
    "\n",
    "model.compile(optimizer='adam',\n",
    "              loss=loss_fn,\n",
    "              metrics=['accuracy'])"
   ]
  },
  {
   "cell_type": "code",
   "execution_count": 75,
   "metadata": {},
   "outputs": [
    {
     "name": "stdout",
     "output_type": "stream",
     "text": [
      "Train on 60000 samples\n",
      "Epoch 1/5\n",
      "60000/60000 [==============================] - 5s 75us/sample - loss: 0.1957 - accuracy: 0.9416\n",
      "Epoch 2/5\n",
      "60000/60000 [==============================] - 4s 68us/sample - loss: 0.1575 - accuracy: 0.9533\n",
      "Epoch 3/5\n",
      "60000/60000 [==============================] - 4s 71us/sample - loss: 0.1392 - accuracy: 0.9574\n",
      "Epoch 4/5\n",
      "60000/60000 [==============================] - 4s 69us/sample - loss: 0.1255 - accuracy: 0.9618\n",
      "Epoch 5/5\n",
      "60000/60000 [==============================] - 5s 80us/sample - loss: 0.1137 - accuracy: 0.9651\n"
     ]
    },
    {
     "data": {
      "text/plain": [
       "<tensorflow.python.keras.callbacks.History at 0x2c4867b5308>"
      ]
     },
     "execution_count": 75,
     "metadata": {},
     "output_type": "execute_result"
    }
   ],
   "source": [
    "model.fit(x_tr2, y_tr, epochs=5)"
   ]
  },
  {
   "cell_type": "code",
   "execution_count": 92,
   "metadata": {},
   "outputs": [
    {
     "name": "stdout",
     "output_type": "stream",
     "text": [
      "10000/10000 - 0s - loss: 0.0915 - accuracy: 0.9728\n"
     ]
    }
   ],
   "source": [
    "model.evaluate(x_t2,  y_t, verbose=2)\n",
    "probability_model = tf.keras.Sequential([\n",
    "  model,\n",
    "  tf.keras.layers.Softmax()\n",
    "])"
   ]
  },
  {
   "cell_type": "code",
   "execution_count": 91,
   "metadata": {},
   "outputs": [
    {
     "data": {
      "image/png": "[encoded data removed]",
      "text/plain": [
       "<Figure size 432x288 with 1 Axes>"
      ]
     },
     "metadata": {
      "needs_background": "light"
     },
     "output_type": "display_data"
    },
    {
     "name": "stdout",
     "output_type": "stream",
     "text": [
      "[[9.64033614e-12 1.72520031e-09 2.38042358e-09 6.41566098e-03\n",
      "  1.59150886e-18 9.93561966e-01 3.82731284e-13 4.23931812e-12\n",
      "  4.96843930e-09 2.23639585e-05]]\n"
     ]
    }
   ],
   "source": [
    "plt.imshow(x_tr2[:1][0], cmap='gray')\n",
    "plt.show()\n",
    "print(probability_model(x_tr2[:1]).numpy())"
   ]
  },
  {
   "cell_type": "code",
   "execution_count": 88,
   "metadata": {},
   "outputs": [
    {
     "data": {
      "image/png": "[encoded data removed]",
      "text/plain": [
       "<Figure size 432x288 with 1 Axes>"
      ]
     },
     "metadata": {
      "needs_background": "light"
     },
     "output_type": "display_data"
    },
    {
     "name": "stdout",
     "output_type": "stream",
     "text": [
      "[[3.49446304e-08 2.27896803e-08 1.76932400e-06 1.86201376e-05\n",
      "  9.88824037e-13 1.07212797e-07 5.73346872e-13 9.99974347e-01\n",
      "  1.19466591e-07 4.97930863e-06]]\n"
     ]
    }
   ],
   "source": [
    "plt.imshow(x_t2[:1][0], cmap='gray')\n",
    "plt.show()\n",
    "print(probability_model(x_t2[:1]).numpy())"
   ]
  },
  {
   "cell_type": "markdown",
   "metadata": {},
   "source": [
    "# TF2 Advanced\n",
    "https://www.tensorflow.org/tutorials/quickstart/advanced"
   ]
  },
  {
   "cell_type": "code",
   "execution_count": 97,
   "metadata": {},
   "outputs": [],
   "source": [
    "import tensorflow as tf\n",
    "\n",
    "from tensorflow.keras.layers import Dense, Flatten, Conv2D\n",
    "from tensorflow.keras import Model\n",
    "\n",
    "# Add a channels dimension\n",
    "x_tr3 = x_tr2[..., tf.newaxis]\n",
    "x_t3 = x_t2[..., tf.newaxis]\n",
    "\n",
    "train_ds = tf.data.Dataset.from_tensor_slices(\n",
    "    (x_tr3, y_tr)).shuffle(10000).batch(32)\n",
    "\n",
    "test_ds = tf.data.Dataset.from_tensor_slices((x_t3, y_t)).batch(32)\n",
    "\n",
    "class MyModel(Model):\n",
    "    def __init__(self):\n",
    "        super(MyModel, self).__init__()\n",
    "        self.conv1 = Conv2D(32, 3, activation='relu')\n",
    "        self.flatten = Flatten()\n",
    "        self.d1 = Dense(128, activation='relu')\n",
    "        self.d2 = Dense(10)\n",
    "    def call(self, x):\n",
    "        x = self.conv1(x)\n",
    "        x = self.flatten(x)\n",
    "        x = self.d1(x)\n",
    "        return self.d2(x)\n",
    "\n",
    "# Create an instance of the model\n",
    "model = MyModel()\n",
    "\n",
    "loss_object = tf.keras.losses.SparseCategoricalCrossentropy(from_logits=True)\n",
    "optimizer = tf.keras.optimizers.Adam()\n",
    "\n",
    "train_loss = tf.keras.metrics.Mean(name='train_loss')\n",
    "train_accuracy = tf.keras.metrics.SparseCategoricalAccuracy(name='train_accuracy')\n",
    "\n",
    "test_loss = tf.keras.metrics.Mean(name='test_loss')\n",
    "test_accuracy = tf.keras.metrics.SparseCategoricalAccuracy(name='test_accuracy')\n",
    "\n",
    "@tf.function\n",
    "def train_step(images, labels):\n",
    "    with tf.GradientTape() as tape:\n",
    "        # training=True is only needed if there are layers with different\n",
    "        # behavior during training versus inference (e.g. Dropout).\n",
    "        predictions = model(images, training=True)\n",
    "        loss = loss_object(labels, predictions)\n",
    "    gradients = tape.gradient(loss, model.trainable_variables)\n",
    "    optimizer.apply_gradients(zip(gradients, model.trainable_variables))\n",
    "\n",
    "    train_loss(loss)\n",
    "    train_accuracy(labels, predictions)\n",
    "    \n",
    "@tf.function\n",
    "def test_step(images, labels):\n",
    "    # training=False is only needed if there are layers with different\n",
    "    # behavior during training versus inference (e.g. Dropout).\n",
    "    predictions = model(images, training=False)\n",
    "    t_loss = loss_object(labels, predictions)\n",
    "\n",
    "    test_loss(t_loss)\n",
    "    test_accuracy(labels, predictions)"
   ]
  },
  {
   "cell_type": "code",
   "execution_count": 98,
   "metadata": {},
   "outputs": [
    {
     "name": "stdout",
     "output_type": "stream",
     "text": [
      "Epoch 1, Loss: 0.1334869528900211, Accuracy: 95.97, Test Loss: 0.062299293317696666, Test Accuracy: 97.92\n"
     ]
    }
   ],
   "source": [
    "EPOCHS = 1\n",
    "for epoch in range(EPOCHS):\n",
    "    # Reset the metrics at the start of the next epoch\n",
    "    train_loss.reset_states()\n",
    "    train_accuracy.reset_states()\n",
    "    test_loss.reset_states()\n",
    "    test_accuracy.reset_states()\n",
    "\n",
    "    for images, labels in train_ds:\n",
    "        train_step(images, labels)\n",
    "\n",
    "    for test_images, test_labels in test_ds:\n",
    "        test_step(test_images, test_labels)\n",
    "    \n",
    "    template = 'Epoch {}, Loss: {}, Accuracy: {}, Test Loss: {}, Test Accuracy: {}'\n",
    "    print(\n",
    "        template.format(epoch + 1,\n",
    "        train_loss.result(),\n",
    "        train_accuracy.result() * 100,\n",
    "        test_loss.result(),\n",
    "        test_accuracy.result() * 100))"
   ]
  }
 ],
 "metadata": {
  "kernelspec": {
   "display_name": "Python 3",
   "language": "python",
   "name": "python3"
  },
  "language_info": {
   "codemirror_mode": {
    "name": "ipython",
    "version": 3
   },
   "file_extension": ".py",
   "mimetype": "text/x-python",
   "name": "python",
   "nbconvert_exporter": "python",
   "pygments_lexer": "ipython3",
   "version": "3.7.7"
  }
 },
 "nbformat": 4,
 "nbformat_minor": 4
}
