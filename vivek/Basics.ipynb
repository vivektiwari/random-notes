{
 "cells": [
  {
   "cell_type": "code",
   "execution_count": 27,
   "metadata": {},
   "outputs": [],
   "source": [
    "from matplotlib import pyplot as plt\n",
    "import math\n",
    "import numpy as np\n",
    "\n",
    "#https://www.tutorialspoint.com/graph-plotting-in-python\n",
    "def basic_plot(xbeg, xend, xgap, fx, xlabel=\"x\", ylabel=\"y\", title=\"y over x\"):\n",
    "    x = np.arange(xbeg, xend, xgap)\n",
    "    y = fx(x)\n",
    "    plt.plot(x,y)\n",
    "    plt.xlabel(xlabel)\n",
    "    plt.ylabel(ylabel)\n",
    "    plt.title(title)\n",
    "    plt.show()"
   ]
  },
  {
   "cell_type": "markdown",
   "metadata": {},
   "source": [
    "# Gradient Descent Intuition\n",
    "\n",
    "Say f(x) and f'(x) are known/computable functions\n",
    "We want to find x when f(x) is maximum/minimum?\n",
    "\n",
    "Solution is to solve for x when f'(x) = 0, but how to solve this programmatically\n",
    "\n",
    "Finding minimum (what we do in most ML problems)\n",
    "\n",
    "Take x = r (random value)\n",
    "Compute f'(r)\n",
    "If f'(r) > 0 then f(x) is increasing at r, we need to move to left (decrease r)\n",
    "If f'(r) < 0 then f(x) is decreasing at r, we need to move to right (increase r) \n",
    "\n",
    "i.e. x = x - alpha * f'(r) where is alpha in ML world is know as learning rate\n",
    "\n",
    "Similarly for maximum\n",
    "x = x + alpha * f(r)\n",
    "\n",
    "When you iterate for a large number of times, the values converge to a minima.\n",
    "\n",
    "Note: This approach has problems with local minima, plateau, saddle points etc. It is significant problem with low dimensional functions, however in Deep Learning the dimensions are quite large and such problems are not that common."
   ]
  },
  {
   "cell_type": "code",
   "execution_count": 28,
   "metadata": {},
   "outputs": [],
   "source": [
    "def gradient_descent(x, f1x, alpha, iterations, minimum=True):\n",
    "    alpha = alpha if minimum else 0-alpha;\n",
    "    for i in range(iterations):\n",
    "        x = x - alpha * f1x(x)\n",
    "    \n",
    "    return round(x,5)"
   ]
  },
  {
   "cell_type": "code",
   "execution_count": 35,
   "metadata": {
    "scrolled": true
   },
   "outputs": [
    {
     "data": {
      "image/png": "[encoded data removed]",
      "text/plain": [
       "<Figure size 432x288 with 1 Axes>"
      ]
     },
     "metadata": {
      "needs_background": "light"
     },
     "output_type": "display_data"
    },
    {
     "data": {
      "text/plain": [
       "-0.5"
      ]
     },
     "execution_count": 35,
     "metadata": {},
     "output_type": "execute_result"
    }
   ],
   "source": [
    "test_fx = lambda x: x*x + x\n",
    "test_f1x = lambda x : 2 * x + 1\n",
    "basic_plot(-5, 5, 0.1, test_fx)\n",
    "gradient_descent(10, test_f1x, 0.1, 100)"
   ]
  },
  {
   "cell_type": "markdown",
   "metadata": {},
   "source": [
    "# ML / Deep Learning intuition\n",
    "\n",
    "Input = x[x1, x2, x3]\n",
    "Output = y\n",
    "And there exists a function such that f(x) = y\n",
    "\n",
    "So we want to know what that function is i.e want to learn that function?\n",
    "\n",
    "When we find a function which is given input outputs y for all values we say the our function fits the input output points.\n",
    "\n",
    "Since we only have finite I/O pairs, there can be a lot of function that can fit an input/output pairs. And we want to use that learned function to predict new Output for any new Input. \n",
    "\n",
    "So we want to learn a function which is the best representation of the actual function.\n",
    "\n",
    "In ML/AI we generally assume the function to be a non-linear function with a linear operation\n",
    "f(x) = Non-Linear(W X + b)\n",
    "\n",
    "This is Linear regression if done once. If repeated many times with nodes call neurons, it is called Neural Network\n",
    "\n",
    "Which function is the best fit?\n",
    "\n",
    "For that we want to find the difference between Predicted Y (Y) to the Actual Y (Y'). We want a learnt function where there is no difference. If difference is a function we want to minimize that function\n",
    "\n",
    "Difference is usually known as Cost function\n",
    "\n",
    "Cost = J(Y,Y') over all input points\n",
    "\n",
    "To minimize we use gradient descent.\n",
    "\n",
    "\n",
    "Example: 1 input\n",
    "X[x1,x2,x3]\n",
    "H[u, v]\n",
    "Y[y]\n",
    "\n",
    "Cost = (y-y')^2\n",
    "\n",
    "u = g(x1 + x2)\n",
    "v = g(2x1 + x3)\n",
    "\n",
    "Zh = [1 1 0   [x1\n",
    "     2 1 0]   x2\n",
    "              x3]\n",
    "H = g(Zh)\n",
    "\n",
    "y = 2u + v\n",
    "Zy = [2  1] [u\n",
    "            v]\n",
    "y = g(Zy)\n",
    "\n",
    "Cost J(Y) = J(g(Zy)-y')\n",
    "\n",
    "\n",
    "\n",
    "# To be update after DL C1\n"
   ]
  },
  {
   "cell_type": "code",
   "execution_count": null,
   "metadata": {},
   "outputs": [],
   "source": []
  }
 ],
 "metadata": {
  "kernelspec": {
   "display_name": "Python 3",
   "language": "python",
   "name": "python3"
  },
  "language_info": {
   "codemirror_mode": {
    "name": "ipython",
    "version": 3
   },
   "file_extension": ".py",
   "mimetype": "text/x-python",
   "name": "python",
   "nbconvert_exporter": "python",
   "pygments_lexer": "ipython3",
   "version": "3.7.6"
  }
 },
 "nbformat": 4,
 "nbformat_minor": 4
}
